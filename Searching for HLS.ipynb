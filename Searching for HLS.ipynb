{
 "cells": [
  {
   "cell_type": "code",
   "execution_count": 1,
   "metadata": {},
   "outputs": [],
   "source": [
    "from HLS import HLS2CMR"
   ]
  },
  {
   "cell_type": "code",
   "execution_count": 3,
   "metadata": {},
   "outputs": [
    {
     "name": "stdout",
     "output_type": "stream",
     "text": [
      "[2024-10-30 17:15:22 INFO] HLS 2.0 working directory: \u001b[34m/Users/gregoryhalverson/Projects/HLS\u001b[0m\n",
      "[2024-10-30 17:15:22 INFO] HLS 2.0 download directory: \u001b[34m/Users/gregoryhalverson/Projects/HLS/HLS2_download\u001b[0m\n",
      "[2024-10-30 17:15:22 INFO] HLS 2.0 products directory: \u001b[34m/Users/gregoryhalverson/Projects/HLS/HLS2_products\u001b[0m\n"
     ]
    },
    {
     "data": {
      "text/plain": [
       "HLS2CMR(\n",
       "\tworking_directory=\"/Users/gregoryhalverson/Projects/HLS\",\n",
       "\tdownload_directory=\"/Users/gregoryhalverson/Projects/HLS/HLS2_download\",\n",
       "\tproducts_directory=\"/Users/gregoryhalverson/Projects/HLS/HLS2_products\",\n",
       "\tremote=\"None\"\n",
       ")"
      ]
     },
     "execution_count": 3,
     "metadata": {},
     "output_type": "execute_result"
    }
   ],
   "source": [
    "HLS_connection = HLS2CMR()\n",
    "HLS_connection"
   ]
  },
  {
   "cell_type": "code",
   "execution_count": null,
   "metadata": {},
   "outputs": [],
   "source": []
  }
 ],
 "metadata": {
  "kernelspec": {
   "display_name": "HLS",
   "language": "python",
   "name": "python3"
  },
  "language_info": {
   "codemirror_mode": {
    "name": "ipython",
    "version": 3
   },
   "file_extension": ".py",
   "mimetype": "text/x-python",
   "name": "python",
   "nbconvert_exporter": "python",
   "pygments_lexer": "ipython3",
   "version": "3.11.10"
  }
 },
 "nbformat": 4,
 "nbformat_minor": 2
}
